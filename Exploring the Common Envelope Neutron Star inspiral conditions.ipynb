{
 "cells": [
  {
   "cell_type": "markdown",
   "metadata": {},
   "source": [
    "# rp process-like nucleosynthesis in a neutron star during a common envelope phase\n",
    "\n",
    "# Introduction\n",
    "\n",
    "...\n",
    "\n",
    "# The scenario\n",
    "\n"
   ]
  },
  {
   "cell_type": "code",
   "execution_count": 1,
   "metadata": {
    "collapsed": false
   },
   "outputs": [
    {
     "name": "stdout",
     "output_type": "stream",
     "text": [
      "Populating the interactive namespace from numpy and matplotlib\n"
     ]
    }
   ],
   "source": [
    "import censrp as cn\n",
    "import astronomy as ast\n",
    "%pylab nbagg"
   ]
  },
  {
   "cell_type": "code",
   "execution_count": 2,
   "metadata": {
    "collapsed": false
   },
   "outputs": [
    {
     "data": {
      "text/plain": [
       "<module 'censrp' from 'censrp.pyc'>"
      ]
     },
     "execution_count": 2,
     "metadata": {},
     "output_type": "execute_result"
    }
   ],
   "source": [
    "reload(cn)"
   ]
  },
  {
   "cell_type": "markdown",
   "metadata": {},
   "source": [
    "The accretion rate in the .... paper is ....\n",
    "\n",
    "With the gravitational potential $\\Phi = \\frac{G M}{r}$ the accretion luminosity is $L_\\mathrm{accr} = \\dot{m} \\Phi$. The Eddington luminosity is ..... _Action: derive!_\n",
    "\n",
    "\n",
    "If we assume as the radius at which the neutron star accretes as the neutron star radius of $\\approx 10\\mathrm{km}$ we find:"
   ]
  },
  {
   "cell_type": "code",
   "execution_count": 11,
   "metadata": {
    "collapsed": false
   },
   "outputs": [],
   "source": [
    "radius_neutron_star = 10                                     # in km\n",
    "R_accretion = radius_neutron_star * 1e4 * 100 / ast.rsun_cm  # in Rsun\n",
    "M_ns = 1.                                                    # in Msun\n",
    "mdot = 0.1                                                   # in Msun/yr"
   ]
  },
  {
   "cell_type": "code",
   "execution_count": 9,
   "metadata": {
    "collapsed": false
   },
   "outputs": [
    {
     "data": {
      "text/plain": [
       "(14.378145219266715, 0.00014378145219266715)"
      ]
     },
     "execution_count": 9,
     "metadata": {},
     "output_type": "execute_result"
    }
   ],
   "source": [
    "1e5*R_accretion, R_accretion"
   ]
  },
  {
   "cell_type": "code",
   "execution_count": 10,
   "metadata": {
    "collapsed": false
   },
   "outputs": [
    {
     "data": {
      "text/plain": [
       "-2.2681771516721403"
      ]
     },
     "execution_count": 10,
     "metadata": {},
     "output_type": "execute_result"
    }
   ],
   "source": [
    "log10(1.6e8 * 0.1**-0.37/ast.rsun_cm)"
   ]
  },
  {
   "cell_type": "code",
   "execution_count": 13,
   "metadata": {
    "collapsed": false
   },
   "outputs": [
    {
     "data": {
      "text/plain": [
       "3.8389999999999998e+37"
      ]
     },
     "execution_count": 13,
     "metadata": {},
     "output_type": "execute_result"
    }
   ],
   "source": [
    "1e4*ast.lsun_erg_s"
   ]
  },
  {
   "cell_type": "code",
   "execution_count": 12,
   "metadata": {
    "collapsed": false
   },
   "outputs": [
    {
     "name": "stdout",
     "output_type": "stream",
     "text": [
      "Accretion lumniosity L= 2.180e+10Lsun\n"
     ]
    },
    {
     "data": {
      "text/plain": [
       "21803583327.222797"
      ]
     },
     "execution_count": 12,
     "metadata": {},
     "output_type": "execute_result"
    }
   ],
   "source": [
    "cn.accretion_L(mdot, R_accretion, M_ns)"
   ]
  },
  {
   "cell_type": "markdown",
   "metadata": {},
   "source": [
    "However, if we take as accretion radius the bottom of our integrated envelope (_need to check where that really comes from_) which is at $\\log R_\\mathrm{CEB} = -3.2$: "
   ]
  },
  {
   "cell_type": "code",
   "execution_count": 20,
   "metadata": {
    "collapsed": false
   },
   "outputs": [
    {
     "name": "stdout",
     "output_type": "stream",
     "text": [
      "Accretion lumniosity L= 1.571e+08Lsun\n"
     ]
    },
    {
     "data": {
      "text/plain": [
       "157119735.5993172"
      ]
     },
     "execution_count": 20,
     "metadata": {},
     "output_type": "execute_result"
    }
   ],
   "source": [
    "R_accretion = 10**-1.7\n",
    "cn.accretion_L(mdot, R_accretion, M_ns)"
   ]
  },
  {
   "cell_type": "code",
   "execution_count": 16,
   "metadata": {
    "collapsed": false
   },
   "outputs": [
    {
     "name": "stdout",
     "output_type": "stream",
     "text": [
      "Eddington lumniosity L= 9.304e+04Lsun\n"
     ]
    },
    {
     "data": {
      "text/plain": [
       "93035.00866179157"
      ]
     },
     "execution_count": 16,
     "metadata": {},
     "output_type": "execute_result"
    }
   ],
   "source": [
    "kappa=0.2*(1*0.7)                            # assuming electron scattering\n",
    "cn.L_Eddington(1,kappa)                      # assuming a one solar mass neutron star"
   ]
  },
  {
   "cell_type": "markdown",
   "metadata": {},
   "source": [
    "In any case the accretion luminosity exceeds the Eddington luminosity unless `R_accretion = 14Rsun`."
   ]
  },
  {
   "cell_type": "markdown",
   "metadata": {},
   "source": [
    "This is the other stuff that we did:\n",
    "```\n",
    "history\n",
    "ed this_ast.py\n",
    "import this_ast as ta\n",
    "ta.accretion_L(0.1,1.4378145219266715e-05,1.)\n",
    "\"%.3e\"%_\n",
    "\"%.3e\"%ta.accretion_L(0.1,1.4e-05,1.)\n",
    "\"%.3e\"%ta.accretion_L(1.e-9,1.4e-05,1.)\n",
    "ed this_ast.py\n",
    "relat ta\n",
    "reload(ta)\n",
    "ta.accretion_L(1.e-9,1.4e-05,1.)\n",
    "ed this_ast.py\n",
    "reload(ta)\n",
    "ta.accretion_L(1.e-9,1.4e-05,1.)\n",
    "ta.accretion_L(1.e-1,1.4e-05,1.)\n",
    "ed this_ast.py\n",
    "ta.accretion_L(1.e-1,1.e-3.2,1.)\n",
    "ta.accretion_L(1.e-1,1.e-{3.2},1.)\n",
    "10**-3.2\n",
    "r_ceb=_\n",
    "ta.accretion_L(1.e-1,r_ceb,1.)\n",
    "ed this_ast.py\n",
    "reload(ta)\n",
    "kappa=0.2*(1*0.7)\n",
    "ed this_ast.py\n",
    "ta.L_Eddington(1,kappa)\n",
    "ed this_ast.py\n",
    "ta.accretion_L(1.e-6,r_ceb,1.)\n",
    "ta.accretion_L(1.e-5,r_ceb,1.)\n",
    "ta.L_Eddington(1,kappa)\n",
    "!pwd\n",
    "history\n",
    "\n",
    "```\n",
    "\n",
    "You should try to retrace our arguments concerning what reasonable accretions are, how the radius at the bottom of the convective envelope compares to accretion radii etc.\n",
    "\n",
    "One argument that is made in the MacLeod paper concerns the so-called hyperinflation. Somehow it has to do with the notion that in our scenario we are adopting convective transport in addition to the radiative transport. In the argument "
   ]
  },
  {
   "cell_type": "code",
   "execution_count": null,
   "metadata": {
    "collapsed": true
   },
   "outputs": [],
   "source": []
  }
 ],
 "metadata": {
  "kernelspec": {
   "display_name": "Python 2",
   "language": "python",
   "name": "python2"
  },
  "language_info": {
   "codemirror_mode": {
    "name": "ipython",
    "version": 2
   },
   "file_extension": ".py",
   "mimetype": "text/x-python",
   "name": "python",
   "nbconvert_exporter": "python",
   "pygments_lexer": "ipython2",
   "version": "2.7.9"
  }
 },
 "nbformat": 4,
 "nbformat_minor": 0
}
